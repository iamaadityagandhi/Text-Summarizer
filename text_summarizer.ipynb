{
  "nbformat": 4,
  "nbformat_minor": 0,
  "metadata": {
    "colab": {
      "provenance": []
    },
    "kernelspec": {
      "name": "python3",
      "display_name": "Python 3"
    },
    "language_info": {
      "name": "python"
    }
  },
  "cells": [
    {
      "cell_type": "code",
      "execution_count": null,
      "metadata": {
        "colab": {
          "base_uri": "https://localhost:8080/"
        },
        "id": "2YbAeCblnjXX",
        "outputId": "4f1c1092-5083-4a3e-dc99-2a31aed46bf9"
      },
      "outputs": [
        {
          "output_type": "stream",
          "name": "stdout",
          "text": [
            "Requirement already satisfied: transformers in /usr/local/lib/python3.10/dist-packages (4.42.4)\n",
            "Requirement already satisfied: filelock in /usr/local/lib/python3.10/dist-packages (from transformers) (3.15.4)\n",
            "Requirement already satisfied: huggingface-hub<1.0,>=0.23.2 in /usr/local/lib/python3.10/dist-packages (from transformers) (0.23.5)\n",
            "Requirement already satisfied: numpy<2.0,>=1.17 in /usr/local/lib/python3.10/dist-packages (from transformers) (1.26.4)\n",
            "Requirement already satisfied: packaging>=20.0 in /usr/local/lib/python3.10/dist-packages (from transformers) (24.1)\n",
            "Requirement already satisfied: pyyaml>=5.1 in /usr/local/lib/python3.10/dist-packages (from transformers) (6.0.1)\n",
            "Requirement already satisfied: regex!=2019.12.17 in /usr/local/lib/python3.10/dist-packages (from transformers) (2024.5.15)\n",
            "Requirement already satisfied: requests in /usr/local/lib/python3.10/dist-packages (from transformers) (2.31.0)\n",
            "Requirement already satisfied: safetensors>=0.4.1 in /usr/local/lib/python3.10/dist-packages (from transformers) (0.4.3)\n",
            "Requirement already satisfied: tokenizers<0.20,>=0.19 in /usr/local/lib/python3.10/dist-packages (from transformers) (0.19.1)\n",
            "Requirement already satisfied: tqdm>=4.27 in /usr/local/lib/python3.10/dist-packages (from transformers) (4.66.4)\n",
            "Requirement already satisfied: fsspec>=2023.5.0 in /usr/local/lib/python3.10/dist-packages (from huggingface-hub<1.0,>=0.23.2->transformers) (2024.6.1)\n",
            "Requirement already satisfied: typing-extensions>=3.7.4.3 in /usr/local/lib/python3.10/dist-packages (from huggingface-hub<1.0,>=0.23.2->transformers) (4.12.2)\n",
            "Requirement already satisfied: charset-normalizer<4,>=2 in /usr/local/lib/python3.10/dist-packages (from requests->transformers) (3.3.2)\n",
            "Requirement already satisfied: idna<4,>=2.5 in /usr/local/lib/python3.10/dist-packages (from requests->transformers) (3.7)\n",
            "Requirement already satisfied: urllib3<3,>=1.21.1 in /usr/local/lib/python3.10/dist-packages (from requests->transformers) (2.0.7)\n",
            "Requirement already satisfied: certifi>=2017.4.17 in /usr/local/lib/python3.10/dist-packages (from requests->transformers) (2024.7.4)\n"
          ]
        }
      ],
      "source": [
        "!pip install transformers"
      ]
    },
    {
      "cell_type": "code",
      "source": [
        "from transformers import pipeline"
      ],
      "metadata": {
        "id": "kFZLOE0XnuJ6"
      },
      "execution_count": null,
      "outputs": []
    },
    {
      "cell_type": "code",
      "source": [
        "summarizer=pipeline('summarization')"
      ],
      "metadata": {
        "colab": {
          "base_uri": "https://localhost:8080/"
        },
        "id": "T5cBuC9Ln9gS",
        "outputId": "77bde468-6985-4499-9413-e9580af428ea"
      },
      "execution_count": null,
      "outputs": [
        {
          "output_type": "stream",
          "name": "stderr",
          "text": [
            "No model was supplied, defaulted to sshleifer/distilbart-cnn-12-6 and revision a4f8f3e (https://huggingface.co/sshleifer/distilbart-cnn-12-6).\n",
            "Using a pipeline without specifying a model name and revision in production is not recommended.\n"
          ]
        }
      ]
    },
    {
      "cell_type": "code",
      "source": [
        "article=\"\"\"\n",
        "The City of New York recently announced it would begin implementing the use of AI weapons detectors, named Evolv, on the city’s subways to screen passengers.\n",
        "\n",
        "\n",
        "“I am telling them they need to evolve and get it out, because I think it’s good technology,” Mayor Eric Adams said at his weekly press availability on Tuesday. “I’m really excited about this, just the potentiality that we could identify someone carrying a gun before they enter the system.”\n",
        "\n",
        "\n",
        "But the city’s residents say they still don’t feel safe.\n",
        "\n",
        "\n",
        "As described by an NBC report, the scanners, about 6 feet tall, feature the logo of the city's police department and a multicolor light display. When a weapon is detected, an alert is sent to a tablet monitored by a pair of NYPD officers. The system is not supposed to alert everyday items, such as phones and laptops — though a reporter's iPad case set it off Friday.\n",
        "\n",
        "\n",
        "Civil liberties advocates also protested against the scanners. The New York Civil Liberties Union and the Legal Aid Society said they would sue the city if the technology is rolled out on a wide scale.\n",
        "\n",
        "\n",
        "The NYCLU believes the technology will make subway riders subjected to unconstitutional searches by the police.\n",
        "\n",
        "\n",
        "The system has only been installed in several locations so far.\n",
        "\n",
        "\n",
        "But with 472 subway stations throughout New York City, the largest number of any system in the world, this lack of Evolv AI detectors in every station means the subways are not actually being kept safe.\n",
        "\n",
        "\n",
        "Though there have been high-profile incidents, like a 2022 shooting on a Brooklyn train that left 10 people wounded, crime in the New York City subway system has fallen in recent years.\n",
        "\n",
        "\n",
        "What this means is that overall, violent crime in the system is rare, with New York’s subway system being generally as safe as any other public place.\n",
        "\n",
        "\n",
        "As of July 21, subway crime is down 8%, compared with the same period in 2023, according to police data. Last year, there were five killings in the subway, down from 10 in 2022, according to police.\n",
        "\n",
        "\n",
        "AI weapons detectors are useful since they can identify potential threats more quickly and accurately than human personnel. Unlike human guards, AI systems do not suffer from fatigue, distraction, or bias, ensuring consistent performance and vigilance.\n",
        "\n",
        "\n",
        "On the flip side, the same detectors can misidentify harmless objects as weapons (false positives) or fail to detect actual threats (false negatives), potentially causing security lapses or unnecessary panic.\n",
        "\n",
        "\n",
        "Critics say Evolv is problematic from a legal point of view.\n",
        "\n",
        "\n",
        "Evolv can also have other shortcomings, such as being susceptible to hacking and other cyber-attacks, which could compromise the system’s effectiveness.\n",
        "\n",
        "\n",
        "In addition, the initial setup and deployment of the detectors will likely be expensive, requiring significant investment in technology and infrastructure – all of which of course comes out of the city’s budget paid for by taxpayers whether they like it or not.\n",
        "\n",
        "\n",
        "As NYCLU notes, the use of AI in security settings raises ethical and legal questions about accountability, especially in cases where the system makes errors or is involved in incidents resulting in harm.\n",
        "\n",
        "\n",
        "It is clear that public acceptance of AI weapons detectors is going to be mixed, with some individuals feeling uneasy about relying on machines for safety and security decisions.\n",
        "\n",
        "\n",
        "Hopefully, crime rates stay low and security levels remain high – with or without Evolv.\n",
        "\"\"\""
      ],
      "metadata": {
        "id": "pdtpBBptoVg4"
      },
      "execution_count": null,
      "outputs": []
    },
    {
      "cell_type": "code",
      "source": [
        "summary=summarizer(article,max_length=130,min_length=30,do_sample=False)"
      ],
      "metadata": {
        "colab": {
          "base_uri": "https://localhost:8080/"
        },
        "id": "yLVEslrlpV0D",
        "outputId": "ea5a42f6-e1d4-4dac-c2dc-ace0e62242c3"
      },
      "execution_count": null,
      "outputs": [
        {
          "output_type": "execute_result",
          "data": {
            "text/plain": [
              "[{'summary_text': \" The City of New York recently announced it would begin implementing the use of AI weapons detectors, named Evolv, on the city’s subways to screen passengers . The scanners, about 6 feet tall, feature the logo of the city's police department and a multicolor light display . When a weapon is detected, an alert is sent to a pair of NYPD officers .\"}]"
            ]
          },
          "metadata": {},
          "execution_count": 9
        }
      ]
    },
    {
      "cell_type": "code",
      "source": [],
      "metadata": {
        "id": "yc7NMY0npwOy"
      },
      "execution_count": null,
      "outputs": []
    }
  ]
}